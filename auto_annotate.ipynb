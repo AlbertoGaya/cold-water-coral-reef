{
 "cells": [
  {
   "cell_type": "markdown",
   "id": "d5ff4404-44bb-464f-979d-ece15b8e84f9",
   "metadata": {},
   "source": [
    "## Automatic Annotation YOLOv8 + SAM\n",
    "This automatic annotation function allows for the training of YOLO models with a larger number of images. It is specifically designed for segmentation models.\n",
    "\n",
    "A folder will be created within the 'data' path that will contain the annotations in .txt format.\n",
    "\n",
    "### Explanation:\n",
    "\n",
    "This function leverages the power of YOLOv8 for object detection and the Segment Anything Model (SAM) for segmentation to automatically generate annotations for your images. This can significantly speed up the process of creating training data for your segmentation models, as it eliminates the need for manual annotation.\n",
    "\n",
    "The annotations will be saved in .txt files within a new folder inside your 'data' directory. These .txt files will typically contain the coordinates of bounding boxes around the segmented objects, as well as their class labels."
   ]
  },
  {
   "cell_type": "code",
   "execution_count": 17,
   "id": "67d7dc89-fd26-47a3-be13-c544cc20bf2c",
   "metadata": {},
   "outputs": [
    {
     "name": "stdout",
     "output_type": "stream",
     "text": [
      "\n",
      "image 1/48 /home/berto/Documents/iMagine/Campañas/Transectos/IC222_TF18/IC222_TF18_1268.JPG: 448x640 2 Dead Corals, 22.9ms\n",
      "image 2/48 /home/berto/Documents/iMagine/Campañas/Transectos/IC222_TF18/IC222_TF18_1269.JPG: 448x640 4 Dead Corals, 22.5ms\n",
      "image 3/48 /home/berto/Documents/iMagine/Campañas/Transectos/IC222_TF18/IC222_TF18_1270.JPG: 448x640 6 Dead Corals, 22.5ms\n",
      "image 4/48 /home/berto/Documents/iMagine/Campañas/Transectos/IC222_TF18/IC222_TF18_1271.JPG: 448x640 4 Dead Corals, 22.1ms\n",
      "image 5/48 /home/berto/Documents/iMagine/Campañas/Transectos/IC222_TF18/IC222_TF18_1272.JPG: 448x640 5 Dead Corals, 22.1ms\n",
      "image 6/48 /home/berto/Documents/iMagine/Campañas/Transectos/IC222_TF18/IC222_TF18_1273.JPG: 448x640 4 Dead Corals, 21.7ms\n",
      "image 7/48 /home/berto/Documents/iMagine/Campañas/Transectos/IC222_TF18/IC222_TF18_1274.JPG: 448x640 6 Dead Corals, 21.6ms\n",
      "image 8/48 /home/berto/Documents/iMagine/Campañas/Transectos/IC222_TF18/IC222_TF18_1275.JPG: 448x640 5 Dead Corals, 21.6ms\n",
      "image 9/48 /home/berto/Documents/iMagine/Campañas/Transectos/IC222_TF18/IC222_TF18_1276.JPG: 448x640 7 Dead Corals, 21.6ms\n",
      "image 10/48 /home/berto/Documents/iMagine/Campañas/Transectos/IC222_TF18/IC222_TF18_1277.JPG: 448x640 6 Dead Corals, 22.4ms\n",
      "image 11/48 /home/berto/Documents/iMagine/Campañas/Transectos/IC222_TF18/IC222_TF18_1278.JPG: 448x640 3 Dead Corals, 22.3ms\n",
      "image 12/48 /home/berto/Documents/iMagine/Campañas/Transectos/IC222_TF18/IC222_TF18_1279.JPG: 448x640 1 Dead Coral, 21.6ms\n",
      "image 13/48 /home/berto/Documents/iMagine/Campañas/Transectos/IC222_TF18/IC222_TF18_1280.JPG: 448x640 2 Dead Corals, 22.5ms\n",
      "image 14/48 /home/berto/Documents/iMagine/Campañas/Transectos/IC222_TF18/IC222_TF18_1281.JPG: 448x640 4 Dead Corals, 22.4ms\n",
      "image 15/48 /home/berto/Documents/iMagine/Campañas/Transectos/IC222_TF18/IC222_TF18_1282.JPG: 448x640 10 Dead Corals, 21.6ms\n",
      "image 16/48 /home/berto/Documents/iMagine/Campañas/Transectos/IC222_TF18/IC222_TF18_1283.JPG: 448x640 9 Dead Corals, 23.2ms\n",
      "image 17/48 /home/berto/Documents/iMagine/Campañas/Transectos/IC222_TF18/IC222_TF18_1284.JPG: 448x640 4 Dead Corals, 21.6ms\n",
      "image 18/48 /home/berto/Documents/iMagine/Campañas/Transectos/IC222_TF18/IC222_TF18_1285.JPG: 448x640 1 Dead Coral, 21.6ms\n",
      "image 19/48 /home/berto/Documents/iMagine/Campañas/Transectos/IC222_TF18/IC222_TF18_1453.JPG: 448x640 1 Dead Coral, 21.6ms\n",
      "image 20/48 /home/berto/Documents/iMagine/Campañas/Transectos/IC222_TF18/IC222_TF18_1454.JPG: 448x640 3 Dead Corals, 22.5ms\n",
      "image 21/48 /home/berto/Documents/iMagine/Campañas/Transectos/IC222_TF18/IC222_TF18_1455.JPG: 448x640 2 Dead Corals, 22.1ms\n",
      "image 22/48 /home/berto/Documents/iMagine/Campañas/Transectos/IC222_TF18/IC222_TF18_1456.JPG: 448x640 1 Dead Coral, 22.2ms\n",
      "image 23/48 /home/berto/Documents/iMagine/Campañas/Transectos/IC222_TF18/IC222_TF18_1457.JPG: 448x640 1 Dead Coral, 22.2ms\n",
      "image 24/48 /home/berto/Documents/iMagine/Campañas/Transectos/IC222_TF18/IC222_TF18_1458.JPG: 448x640 1 Dead Coral, 22.1ms\n",
      "image 25/48 /home/berto/Documents/iMagine/Campañas/Transectos/IC222_TF18/IC222_TF18_1459.JPG: 448x640 1 Dead Coral, 22.2ms\n",
      "image 26/48 /home/berto/Documents/iMagine/Campañas/Transectos/IC222_TF18/IC222_TF18_1460.JPG: 448x640 2 Dead Corals, 22.5ms\n",
      "image 27/48 /home/berto/Documents/iMagine/Campañas/Transectos/IC222_TF18/IC222_TF18_1461.JPG: 448x640 2 Dead Corals, 22.5ms\n",
      "image 28/48 /home/berto/Documents/iMagine/Campañas/Transectos/IC222_TF18/IC222_TF18_1462.JPG: 448x640 2 Dead Corals, 22.5ms\n",
      "image 29/48 /home/berto/Documents/iMagine/Campañas/Transectos/IC222_TF18/IC222_TF18_1463.JPG: 448x640 1 Dead Coral, 22.6ms\n",
      "image 30/48 /home/berto/Documents/iMagine/Campañas/Transectos/IC222_TF18/IC222_TF18_1464.JPG: 448x640 1 Dead Coral, 22.6ms\n",
      "image 31/48 /home/berto/Documents/iMagine/Campañas/Transectos/IC222_TF18/IC222_TF18_1465.JPG: 448x640 1 Dead Coral, 22.5ms\n",
      "image 32/48 /home/berto/Documents/iMagine/Campañas/Transectos/IC222_TF18/IC222_TF18_1466.JPG: 448x640 3 Dead Corals, 22.5ms\n",
      "image 33/48 /home/berto/Documents/iMagine/Campañas/Transectos/IC222_TF18/IC222_TF18_1467.JPG: 448x640 1 Dead Coral, 22.6ms\n",
      "image 34/48 /home/berto/Documents/iMagine/Campañas/Transectos/IC222_TF18/IC222_TF18_1468.JPG: 448x640 2 Dead Corals, 22.6ms\n",
      "image 35/48 /home/berto/Documents/iMagine/Campañas/Transectos/IC222_TF18/IC222_TF18_1469.JPG: 448x640 2 Dead Corals, 22.5ms\n",
      "image 36/48 /home/berto/Documents/iMagine/Campañas/Transectos/IC222_TF18/IC222_TF18_1470.JPG: 448x640 3 Dead Corals, 22.6ms\n",
      "image 37/48 /home/berto/Documents/iMagine/Campañas/Transectos/IC222_TF18/IC222_TF18_1471.JPG: 448x640 5 Dead Corals, 22.2ms\n",
      "image 38/48 /home/berto/Documents/iMagine/Campañas/Transectos/IC222_TF18/IC222_TF18_1472.JPG: 448x640 3 Dead Corals, 22.2ms\n",
      "image 39/48 /home/berto/Documents/iMagine/Campañas/Transectos/IC222_TF18/IC222_TF18_1473.JPG: 448x640 2 Dead Corals, 22.2ms\n",
      "image 40/48 /home/berto/Documents/iMagine/Campañas/Transectos/IC222_TF18/IC222_TF18_1474.JPG: 448x640 2 Dead Corals, 22.5ms\n",
      "image 41/48 /home/berto/Documents/iMagine/Campañas/Transectos/IC222_TF18/IC222_TF18_1475.JPG: 448x640 2 Dead Corals, 22.5ms\n",
      "image 42/48 /home/berto/Documents/iMagine/Campañas/Transectos/IC222_TF18/IC222_TF18_1476.JPG: 448x640 1 Dead Coral, 22.5ms\n",
      "image 43/48 /home/berto/Documents/iMagine/Campañas/Transectos/IC222_TF18/IC222_TF18_1477.JPG: 448x640 5 Dead Corals, 22.6ms\n",
      "image 44/48 /home/berto/Documents/iMagine/Campañas/Transectos/IC222_TF18/IC222_TF18_1478.JPG: 448x640 4 Dead Corals, 22.0ms\n",
      "image 45/48 /home/berto/Documents/iMagine/Campañas/Transectos/IC222_TF18/IC222_TF18_1630.JPG: 448x640 1 Dead Coral, 24.2ms\n",
      "image 46/48 /home/berto/Documents/iMagine/Campañas/Transectos/IC222_TF18/IC222_TF18_1631.JPG: 448x640 1 Dead Coral, 22.0ms\n",
      "image 47/48 /home/berto/Documents/iMagine/Campañas/Transectos/IC222_TF18/IC222_TF18_1632.JPG: 448x640 1 Dead Coral, 22.0ms\n",
      "image 48/48 /home/berto/Documents/iMagine/Campañas/Transectos/IC222_TF18/IC222_TF18_1633.JPG: 448x640 2 Dead Corals, 22.5ms\n",
      "Speed: 1.2ms preprocess, 22.3ms inference, 1.0ms postprocess per image at shape (1, 3, 448, 640)\n"
     ]
    }
   ],
   "source": [
    "from ultralytics.data.annotator import auto_annotate\n",
    "\n",
    "auto_annotate(data='Campañas/Transectos/IC222_TF18', det_model='YOLO-seg/Train/runs/segment/train13/weights/best.pt', sam_model='mobile_sam.pt')"
   ]
  }
 ],
 "metadata": {
  "kernelspec": {
   "display_name": "Python 3 (ipykernel)",
   "language": "python",
   "name": "python3"
  },
  "language_info": {
   "codemirror_mode": {
    "name": "ipython",
    "version": 3
   },
   "file_extension": ".py",
   "mimetype": "text/x-python",
   "name": "python",
   "nbconvert_exporter": "python",
   "pygments_lexer": "ipython3",
   "version": "3.10.12"
  }
 },
 "nbformat": 4,
 "nbformat_minor": 5
}
