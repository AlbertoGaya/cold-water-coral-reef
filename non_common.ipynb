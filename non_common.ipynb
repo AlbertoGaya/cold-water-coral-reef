{
 "cells": [
  {
   "cell_type": "markdown",
   "id": "d91d70c8-347c-482b-9347-5ecdb8c42b46",
   "metadata": {},
   "source": [
    "### Find non-common"
   ]
  },
  {
   "cell_type": "code",
   "execution_count": 4,
   "id": "149d359a-80ba-49c5-b2bd-9c3b7fc9ee9c",
   "metadata": {},
   "outputs": [
    {
     "name": "stdout",
     "output_type": "stream",
     "text": [
      "Archivos no comunes encontrados:\n"
     ]
    }
   ],
   "source": [
    "import os\n",
    "\n",
    "def obtener_nombres_archivos(carpetas):\n",
    "    nombres = set()\n",
    "    for carpeta in carpetas:\n",
    "        for archivo in os.listdir(carpeta):\n",
    "            nombre_archivo, _ = os.path.splitext(archivo)\n",
    "            nombres.add(nombre_archivo)\n",
    "    return nombres\n",
    "\n",
    "def encontrar_archivos_no_comunes(carpeta1, carpeta2):\n",
    "    nombres_carpeta1 = obtener_nombres_archivos([carpeta1])\n",
    "    nombres_carpeta2 = obtener_nombres_archivos([carpeta2])\n",
    "    \n",
    "    archivos_no_comunes = nombres_carpeta1.symmetric_difference(nombres_carpeta2)\n",
    "    return archivos_no_comunes\n",
    "\n",
    "carpeta_txt = 'YOLO-seg/Train/datasets/val/labels'\n",
    "carpeta_jpg = 'YOLO-seg/Train/datasets/val/images'\n",
    "\n",
    "archivos_no_comunes = encontrar_archivos_no_comunes(carpeta_txt, carpeta_jpg)\n",
    "\n",
    "print(\"Archivos no comunes encontrados:\")\n",
    "for archivo in archivos_no_comunes:\n",
    "    print(archivo)"
   ]
  },
  {
   "cell_type": "markdown",
   "id": "5c19b61d-327e-4823-b6fc-f9799014ccd6",
   "metadata": {},
   "source": [
    "### Create .txt files from mismatched files\n",
    "This script generates .txt files for images that don't have their associated file. This needs to be done when annotations are generated only for images with annotations and not for the entire set of images."
   ]
  },
  {
   "cell_type": "code",
   "execution_count": 45,
   "id": "9af09b39-f210-4de5-b4d7-e7460dfeba06",
   "metadata": {},
   "outputs": [
    {
     "name": "stdout",
     "output_type": "stream",
     "text": [
      "Archivos no comunes encontrados:\n",
      "IC222_TF05_2373\n"
     ]
    }
   ],
   "source": [
    "import os\n",
    "\n",
    "def obtener_nombres_archivos(carpetas):\n",
    "    nombres = set()\n",
    "    for carpeta in carpetas:\n",
    "        for archivo in os.listdir(carpeta):\n",
    "            nombre_archivo, _ = os.path.splitext(archivo)\n",
    "            nombres.add(nombre_archivo)\n",
    "    return nombres\n",
    "\n",
    "def encontrar_archivos_no_comunes(carpeta1, carpeta2):\n",
    "    nombres_carpeta1 = obtener_nombres_archivos([carpeta1])\n",
    "    nombres_carpeta2 = obtener_nombres_archivos([carpeta2])\n",
    "    \n",
    "    archivos_no_comunes = nombres_carpeta1.symmetric_difference(nombres_carpeta2)\n",
    "    return archivos_no_comunes\n",
    "\n",
    "def generar_archivo_txt(nombre_archivo, carpeta):\n",
    "    with open(os.path.join(carpeta, nombre_archivo + \".txt\"), \"w\") as file:\n",
    "        pass\n",
    "        \n",
    "carpeta_txt = 'Campañas/Transectos/IC222_TF05_auto_annotate_labels'\n",
    "carpeta_jpg = 'Campañas/Transectos/IC222_TF05 (copy)'\n",
    "\n",
    "archivos_no_comunes = encontrar_archivos_no_comunes(carpeta_txt, carpeta_jpg)\n",
    "\n",
    "print(\"Archivos no comunes encontrados:\")\n",
    "for archivo in archivos_no_comunes:\n",
    "    print(archivo)\n",
    "    generar_archivo_txt(archivo, carpeta_txt)"
   ]
  },
  {
   "cell_type": "markdown",
   "id": "e97949bf-6f9a-46d0-b868-06434cdf27a8",
   "metadata": {},
   "source": [
    "### Delete mismatched files\n",
    "It's most likely these are images, given that the auto-annotation process only generates a .txt annotation file when it finds an object in the image.\n",
    "\n",
    "Explanation:\n",
    "\n",
    "In the context of image annotation, this means:\n",
    "\n",
    "Auto-annotation: A tool or process has automatically analyzed your images to identify and label objects within them.\n",
    "Mismatched files: Some of your original image files don't have corresponding .txt annotation files. This is because the auto-annotation tool didn't detect any objects worth labeling in those images.\n",
    "Deletion: The suggestion is to delete these mismatched image files, as they don't have any associated annotations and might not be useful for your project."
   ]
  },
  {
   "cell_type": "code",
   "execution_count": 35,
   "id": "9eac8dcf-c9b9-4fb3-a8ef-69b30016f227",
   "metadata": {},
   "outputs": [],
   "source": [
    "import os\n",
    "import shutil\n",
    "\n",
    "def obtener_nombres_base(carpeta):\n",
    "    \"\"\"Obtiene los nombres base (sin extensión) de todos los elementos dentro de una carpeta.\"\"\"\n",
    "    nombres_base = set()\n",
    "    for elemento in os.listdir(carpeta):\n",
    "        nombre_base, _ = os.path.splitext(elemento)\n",
    "        nombres_base.add(nombre_base)\n",
    "    return nombres_base\n",
    "\n",
    "def encontrar_y_borrar_elementos_no_comunes(carpeta1, carpeta2):\n",
    "    \"\"\"Encuentra y borra elementos cuyos nombres base no coinciden entre dos carpetas.\"\"\"\n",
    "    nombres_base_carpeta1 = obtener_nombres_base(carpeta1)\n",
    "    nombres_base_carpeta2 = obtener_nombres_base(carpeta2)\n",
    "\n",
    "    nombres_base_no_comunes = nombres_base_carpeta1.symmetric_difference(nombres_base_carpeta2)\n",
    "\n",
    "    for nombre_base in nombres_base_no_comunes:\n",
    "        for carpeta in [carpeta1, carpeta2]:\n",
    "            for elemento in os.listdir(carpeta):\n",
    "                if elemento.startswith(nombre_base):  # Comprobar si el nombre base coincide\n",
    "                    ruta_elemento = os.path.join(carpeta, elemento)\n",
    "                    if os.path.exists(ruta_elemento):\n",
    "                        print(f\"Borrar elemento: {ruta_elemento} (s/n)?\")\n",
    "                        confirmacion = input().lower()\n",
    "                        if confirmacion == 's':\n",
    "                            try:\n",
    "                                if os.path.isfile(ruta_elemento):\n",
    "                                    os.remove(ruta_elemento)\n",
    "                                else:\n",
    "                                    shutil.rmtree(ruta_elemento)\n",
    "                                print(f\"Elemento borrado: {ruta_elemento}\")\n",
    "                            except Exception as e:\n",
    "                                print(f\"Error al borrar {ruta_elemento}: {e}\")\n",
    "\n",
    "# Carpetas a comparar (asegúrate de que las rutas sean correctas)\n",
    "carpeta_txt = 'Campañas/Transectos/A0410_TF09_auto_annotate_labels'\n",
    "carpeta_jpg = 'Campañas/Transectos/A0410_TF09 (copy)'\n",
    "\n",
    "# Ejecutar la búsqueda y borrado\n",
    "encontrar_y_borrar_elementos_no_comunes(carpeta_txt, carpeta_jpg)"
   ]
  },
  {
   "cell_type": "code",
   "execution_count": null,
   "id": "96ace9ff-cd51-4c60-902d-0232305ed7c5",
   "metadata": {},
   "outputs": [],
   "source": []
  }
 ],
 "metadata": {
  "kernelspec": {
   "display_name": "Python 3 (ipykernel)",
   "language": "python",
   "name": "python3"
  },
  "language_info": {
   "codemirror_mode": {
    "name": "ipython",
    "version": 3
   },
   "file_extension": ".py",
   "mimetype": "text/x-python",
   "name": "python",
   "nbconvert_exporter": "python",
   "pygments_lexer": "ipython3",
   "version": "3.10.12"
  }
 },
 "nbformat": 4,
 "nbformat_minor": 5
}
