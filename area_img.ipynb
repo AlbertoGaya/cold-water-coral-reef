{
 "cells": [
  {
   "cell_type": "markdown",
   "id": "2d4dded8-7523-4f6c-9e43-51147df41ca8",
   "metadata": {},
   "source": [
    "## Calculation of Area Covered by Image\n",
    "\n",
    "This script, extracted from my Master's Thesis pipeline, contains pixel distance data between lasers in 50 images. Using these 50 images, we can train a linear regression model to compare the measured image areas with the height at which the ROV (Remotely Operated Vehicle) was located at that specific moment. Subsequently, we can make predictions based on this model. By knowing the ROV's height through telemetry, we can estimate the area covered by the image.\n",
    "\n",
    "Despite the results not being entirely satisfactory, as the regression line does not always perfectly fit reality and sometimes the height at which the ROV is located is not correctly synchronized with the image, this initial approach represents an important step in addressing the problem of area calculation."
   ]
  },
  {
   "cell_type": "code",
   "execution_count": 1,
   "id": "bb329086-c7f0-4a8f-870e-b8eabc871b5a",
   "metadata": {},
   "outputs": [
    {
     "name": "stdout",
     "output_type": "stream",
     "text": [
      "Defaulting to user installation because normal site-packages is not writeable\n",
      "Requirement already satisfied: scikit-learn in /home/berto/.local/lib/python3.10/site-packages (1.4.2)\n",
      "Requirement already satisfied: threadpoolctl>=2.0.0 in /home/berto/.local/lib/python3.10/site-packages (from scikit-learn) (3.4.0)\n",
      "Requirement already satisfied: scipy>=1.6.0 in /home/berto/.local/lib/python3.10/site-packages (from scikit-learn) (1.13.0)\n",
      "Requirement already satisfied: joblib>=1.2.0 in /home/berto/.local/lib/python3.10/site-packages (from scikit-learn) (1.4.0)\n",
      "Requirement already satisfied: numpy>=1.19.5 in /home/berto/.local/lib/python3.10/site-packages (from scikit-learn) (1.26.4)\n"
     ]
    }
   ],
   "source": [
    "!pip install scikit-learn"
   ]
  },
  {
   "cell_type": "code",
   "execution_count": 9,
   "id": "a93f2ccb-9f37-4350-9697-7b35ec16988f",
   "metadata": {},
   "outputs": [
    {
     "name": "stdout",
     "output_type": "stream",
     "text": [
      "    SUB1_Altitude  Pixel-cm\n",
      "0            0.84   46.4332\n",
      "1            0.95   43.1545\n",
      "2            0.96   44.5856\n",
      "3            0.99   35.7016\n",
      "4            0.99   56.7153\n",
      "5            1.00   42.6127\n",
      "6            1.01   42.5130\n",
      "7            1.03   60.3800\n",
      "8            1.05   63.5690\n",
      "9            1.06   34.0064\n",
      "10           1.07   43.6965\n",
      "11           1.08   28.3655\n",
      "12           1.08   51.3074\n",
      "13           1.09   56.2790\n",
      "14           1.09   44.7290\n",
      "15           3.49   78.6984\n",
      "16           3.05   55.9269\n",
      "17           3.00   36.7408\n",
      "18           2.91   51.6109\n",
      "19           2.90   70.4403\n",
      "20           2.81   52.5582\n",
      "21           2.76   29.7149\n",
      "22           2.76   43.2263\n",
      "23           2.74   42.5661\n",
      "24           2.69   32.2872\n",
      "25           2.68   38.7930\n",
      "26           2.60   33.4695\n",
      "27           2.60   58.3721\n",
      "28           1.38   34.3972\n",
      "29           1.37   33.0714\n",
      "30           1.37   44.0291\n",
      "31           1.36   31.8810\n",
      "32           1.36   35.9489\n",
      "33           1.36   30.4704\n",
      "34           1.36   31.6998\n",
      "35           1.36   27.8210\n",
      "36           1.34   57.0840\n",
      "37           1.34   36.9639\n",
      "38           1.33   51.0981\n",
      "39           1.33   45.3685\n",
      "40           1.33   57.1413\n",
      "41           1.33   46.1450\n",
      "42           1.32   28.8302\n",
      "43           1.32   43.2791\n",
      "44           1.31   54.3598\n",
      "45           1.31   34.1521\n",
      "46           1.30   52.0482\n",
      "47           1.30   48.1853\n",
      "48           1.30   35.4231\n",
      "49           1.25   38.4767\n"
     ]
    },
    {
     "data": {
      "image/png": "[encoded data removed]",
      "text/plain": [
       "<Figure size 640x480 with 1 Axes>"
      ]
     },
     "metadata": {},
     "output_type": "display_data"
    }
   ],
   "source": [
    "import pandas as pd\n",
    "import matplotlib.pyplot as plt\n",
    "from sklearn.linear_model import LinearRegression\n",
    "from scipy import stats\n",
    "\n",
    "# Cargar los datos del archivo .csv\n",
    "data = pd.read_csv('Regresion_cap.csv')\n",
    "\n",
    "# Definir las variables x e y\n",
    "x = data['Pixel-cm'].values.reshape(-1,1)\n",
    "y = data['SUB1_Altitude'].values.reshape(-1,1)\n",
    "\n",
    "# Crear el modelo de regresión lineal\n",
    "model = LinearRegression()\n",
    "model.fit(x, y)\n",
    "\n",
    "# Calcular los residuos estudentizados\n",
    "y_pred = model.predict(x)\n",
    "residuals = y - y_pred\n",
    "studentized_residuals = stats.zscore(residuals)\n",
    "\n",
    "# Definir el umbral para detectar outliers\n",
    "threshold = 3\n",
    "\n",
    "# Filtrar los datos para eliminar outliers\n",
    "filtered_data = data[abs(studentized_residuals) < threshold]\n",
    "\n",
    "# Definir las variables x e y con los datos filtrados\n",
    "x = filtered_data['SUB1_Altitude'].values.reshape(-1,1)\n",
    "y = filtered_data['Pixel-cm'].values.reshape(-1,1)\n",
    "\n",
    "# Crear el modelo de regresión lineal con los datos filtrados\n",
    "model = LinearRegression()\n",
    "model.fit(x, y)\n",
    "\n",
    "# Predecir los valores de y para cada valor de x con los datos filtrados\n",
    "y_pred = model.predict(x)\n",
    "\n",
    "# Crear x_pred con los valores de x que van junto a y_pred\n",
    "x_pred = x\n",
    "\n",
    "# Mostrar la tabla con las alturas y el área predicha\n",
    "print(filtered_data[['SUB1_Altitude', 'Pixel-cm']])\n",
    "\n",
    "# Graficar los datos originales y la línea de regresión\n",
    "plt.scatter(x_pred, y_pred)\n",
    "plt.plot(x_pred, y_pred, color='red')\n",
    "plt.ylabel('Pixel-cm')\n",
    "plt.xlabel('Altura')\n",
    "plt.show()"
   ]
  },
  {
   "cell_type": "code",
   "execution_count": 10,
   "id": "295b3bd5-9b8f-4797-a311-ffc3a3ac575a",
   "metadata": {},
   "outputs": [
    {
     "name": "stdout",
     "output_type": "stream",
     "text": [
      "Pendiente de la regresión (m): 3.287096441289187\n"
     ]
    }
   ],
   "source": [
    "# Obtener la pendiente de la regresión\n",
    "pendiente = model.coef_[0][0]\n",
    "print(\"Pendiente de la regresión (m):\", pendiente)"
   ]
  },
  {
   "cell_type": "code",
   "execution_count": null,
   "id": "2ebd1c4e-50dd-48e4-88ea-b6fb8e177d02",
   "metadata": {},
   "outputs": [],
   "source": []
  }
 ],
 "metadata": {
  "kernelspec": {
   "display_name": "Python 3 (ipykernel)",
   "language": "python",
   "name": "python3"
  },
  "language_info": {
   "codemirror_mode": {
    "name": "ipython",
    "version": 3
   },
   "file_extension": ".py",
   "mimetype": "text/x-python",
   "name": "python",
   "nbconvert_exporter": "python",
   "pygments_lexer": "ipython3",
   "version": "3.10.12"
  }
 },
 "nbformat": 4,
 "nbformat_minor": 5
}
